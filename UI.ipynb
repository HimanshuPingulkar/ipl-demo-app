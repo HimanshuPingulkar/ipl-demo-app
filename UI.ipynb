{
 "cells": [
  {
   "cell_type": "code",
   "execution_count": 32,
   "metadata": {},
   "outputs": [
    {
     "name": "stdout",
     "output_type": "stream",
     "text": [
      "Running locally at: http://127.0.0.1:7874/\n",
      "To create a public link, set `share=True` in `launch()`.\n",
      "Interface loading below...\n"
     ]
    },
    {
     "data": {
      "text/html": [
       "\n",
       "        <iframe\n",
       "            width=\"900\"\n",
       "            height=\"500\"\n",
       "            src=\"http://127.0.0.1:7874/\"\n",
       "            frameborder=\"0\"\n",
       "            allowfullscreen\n",
       "        ></iframe>\n",
       "        "
      ],
      "text/plain": [
       "<IPython.lib.display.IFrame at 0x2952c7d23d0>"
      ]
     },
     "metadata": {},
     "output_type": "display_data"
    },
    {
     "data": {
      "text/plain": [
       "(<Flask 'gradio.networking'>, 'http://127.0.0.1:7874/', None)"
      ]
     },
     "execution_count": 32,
     "metadata": {},
     "output_type": "execute_result"
    }
   ],
   "source": [
    "### Functions\n",
    "\n",
    "def matches_played(ipl, team):\n",
    "    count = 0\n",
    "    for i in range(ipl.shape[0]):\n",
    "        if ipl['team1'].iloc[i] == team or ipl['team2'].iloc[i] == team:\n",
    "            count += 1\n",
    "    return count\n",
    "    \n",
    "def most_played_venue(ipl, team):\n",
    "    venues = []\n",
    "    for i in range(ipl.shape[0]):\n",
    "        if ipl['team1'].iloc[i] == team or ipl['team2'].iloc[i] == team:\n",
    "            venues.append(ipl['venue'].iloc[i])\n",
    "    return statistics.mode(venues)\n",
    "    \n",
    "def no_toss_win_and_loose(ipl, team):\n",
    "    win, lose = 0, 0\n",
    "    for i in range(ipl.shape[0]):\n",
    "        if ipl['team1'].iloc[i] == team or ipl['team2'].iloc[i] == team:\n",
    "            if ipl['toss_winner'].iloc[i] == team or ipl['toss_winner'].iloc[i] == team:\n",
    "                win += 1\n",
    "            else:\n",
    "                lose += 1\n",
    "    return (win, lose) \n",
    "          \n",
    "def most_player_of_match(ipl, team):\n",
    "    players = []\n",
    "    for i in range(ipl.shape[0]):\n",
    "        if ipl['team1'].iloc[i] == team or ipl['team2'].iloc[i] == team:\n",
    "            players.append(ipl['player_of_match'].iloc[i])\n",
    "    return statistics.mode(players)\n",
    "    \n",
    "# UI function  \n",
    "def ui_code(team, query):\n",
    "    if query in 'Number of matches played':\n",
    "        op = matches_played(ipl, team)\n",
    "        return op\n",
    "    \n",
    "    elif query in 'Most Played Venue':\n",
    "        op = most_played_venue(ipl, team)\n",
    "        return op\n",
    "    \n",
    "    elif query in 'Number of Toss win and loose':\n",
    "        win, lose = no_toss_win_and_loose(ipl, team)\n",
    "        return win, lose    \n",
    "            \n",
    "    elif query in 'Player with most player_of_match award':\n",
    "        op = most_player_of_match(ipl, team)    \n",
    "        return op\n",
    "          \n",
    "        \n",
    "### Libraries\n",
    "\n",
    "import json\n",
    "import statistics\n",
    "import pandas as pd\n",
    "import gradio as gr\n",
    "from time import time\n",
    "          \n",
    "          \n",
    "### Main code\n",
    "\n",
    "start_time = time()\n",
    "\n",
    "# Read files\n",
    "ipl = pd.read_csv('IPL Matches 2008-2020.csv')\n",
    "config = pd.read_json('config.json')\n",
    "\n",
    "# ipl file team names\n",
    "ipl_teams = []\n",
    "for i in range(ipl.shape[0]):\n",
    "    ipl_teams.append(ipl['team1'].iloc[i])\n",
    "ipl_teams = list(set(ipl_teams))\n",
    "\n",
    "# Problem statements\n",
    "problem_statements = [\"Number of matches played\", \"Most Played Venue\", \"Number of Toss win and loose\", \n",
    "                      \"Player with most player_of_match award\"]\n",
    "\n",
    "\n",
    "# UI Code\n",
    "iface = gr.Interface(\n",
    "                     fn=ui_code, \n",
    "                     inputs=[\n",
    "                         gr.inputs.Dropdown(ipl_teams),\n",
    "                         gr.inputs.Dropdown(problem_statements)\n",
    "                     ], \n",
    "                     outputs=\"text\"\n",
    "                    )\n",
    "\n",
    "iface.launch()"
   ]
  },
  {
   "cell_type": "code",
   "execution_count": null,
   "metadata": {},
   "outputs": [],
   "source": []
  }
 ],
 "metadata": {
  "kernelspec": {
   "display_name": "Python 3",
   "language": "python",
   "name": "python3"
  },
  "language_info": {
   "codemirror_mode": {
    "name": "ipython",
    "version": 3
   },
   "file_extension": ".py",
   "mimetype": "text/x-python",
   "name": "python",
   "nbconvert_exporter": "python",
   "pygments_lexer": "ipython3",
   "version": "3.8.5"
  },
  "toc": {
   "base_numbering": 1,
   "nav_menu": {},
   "number_sections": true,
   "sideBar": true,
   "skip_h1_title": false,
   "title_cell": "Table of Contents",
   "title_sidebar": "Contents",
   "toc_cell": false,
   "toc_position": {},
   "toc_section_display": true,
   "toc_window_display": false
  }
 },
 "nbformat": 4,
 "nbformat_minor": 4
}
